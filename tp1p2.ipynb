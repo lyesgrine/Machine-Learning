{
 "cells": [
  {
   "cell_type": "code",
   "execution_count": 1,
   "metadata": {},
   "outputs": [
    {
     "name": "stdout",
     "output_type": "stream",
     "text": [
      "the number of t's is 4\n"
     ]
    }
   ],
   "source": [
    "phrase = 'This is the most asked question in the world'\n",
    "c = input('Whet is the character :')\n",
    "\n",
    "count = 0\n",
    "for x in phrase:\n",
    "    if x == c:\n",
    "        count+=1\n",
    "\n",
    "print(f'the number of {c}\\'s is {count}')"
   ]
  },
  {
   "cell_type": "code",
   "execution_count": 2,
   "metadata": {},
   "outputs": [
    {
     "data": {
      "text/plain": [
       "{'T': 1,\n",
       " 'h': 3,\n",
       " 'i': 4,\n",
       " 's': 5,\n",
       " ' ': 8,\n",
       " 't': 4,\n",
       " 'e': 4,\n",
       " 'm': 1,\n",
       " 'o': 3,\n",
       " 'a': 1,\n",
       " 'k': 1,\n",
       " 'd': 2,\n",
       " 'q': 1,\n",
       " 'u': 1,\n",
       " 'n': 2,\n",
       " 'w': 1,\n",
       " 'r': 1,\n",
       " 'l': 1}"
      ]
     },
     "execution_count": 2,
     "metadata": {},
     "output_type": "execute_result"
    }
   ],
   "source": [
    "phrase = 'This is the most asked question in the world'\n",
    "f={}\n",
    "\n",
    "for c in phrase:\n",
    "    if c in f:\n",
    "        f[c]+=1\n",
    "    else:\n",
    "        f[c]=1\n",
    "f\n",
    "        \n",
    "        "
   ]
  },
  {
   "cell_type": "code",
   "execution_count": 4,
   "metadata": {},
   "outputs": [
    {
     "data": {
      "text/plain": [
       "{'This': 1,\n",
       " 'is': 1,\n",
       " 'the': 2,\n",
       " 'most': 1,\n",
       " 'asked': 1,\n",
       " 'question': 1,\n",
       " 'in': 1,\n",
       " 'world': 1}"
      ]
     },
     "execution_count": 4,
     "metadata": {},
     "output_type": "execute_result"
    }
   ],
   "source": [
    "phrase = 'This is the most asked question in the world'\n",
    "\n",
    "wl = phrase.split()\n",
    "\n",
    "f ={}\n",
    "\n",
    "for c in wl:\n",
    "    if c in f:\n",
    "        f[c]+=1\n",
    "    else:\n",
    "        f[c]=1\n",
    "f"
   ]
  },
  {
   "cell_type": "code",
   "execution_count": 8,
   "metadata": {},
   "outputs": [
    {
     "data": {
      "text/plain": [
       "['the', 'This', 'is', 'most', 'asked']"
      ]
     },
     "execution_count": 8,
     "metadata": {},
     "output_type": "execute_result"
    }
   ],
   "source": [
    "sorted(f,key=f.get,reverse=True)[:5]"
   ]
  }
 ],
 "metadata": {
  "kernelspec": {
   "display_name": "Python 3",
   "language": "python",
   "name": "python3"
  },
  "language_info": {
   "codemirror_mode": {
    "name": "ipython",
    "version": 3
   },
   "file_extension": ".py",
   "mimetype": "text/x-python",
   "name": "python",
   "nbconvert_exporter": "python",
   "pygments_lexer": "ipython3",
   "version": "3.10.1"
  }
 },
 "nbformat": 4,
 "nbformat_minor": 2
}
